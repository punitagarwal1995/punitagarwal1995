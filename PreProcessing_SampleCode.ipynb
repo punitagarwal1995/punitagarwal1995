{
  "nbformat": 4,
  "nbformat_minor": 0,
  "metadata": {
    "colab": {
      "name": "Untitled6.ipynb",
      "provenance": [],
      "authorship_tag": "ABX9TyMXlo7txPZ96MV2Yb+ZnlZj",
      "include_colab_link": true
    },
    "kernelspec": {
      "name": "python3",
      "display_name": "Python 3"
    },
    "language_info": {
      "name": "python"
    }
  },
  "cells": [
    {
      "cell_type": "markdown",
      "metadata": {
        "id": "view-in-github",
        "colab_type": "text"
      },
      "source": [
        "<a href=\"https://colab.research.google.com/github/punitagarwal1995/punitagarwal1995/blob/main/PreProcessing_SampleCode.ipynb\" target=\"_parent\"><img src=\"https://colab.research.google.com/assets/colab-badge.svg\" alt=\"Open In Colab\"/></a>"
      ]
    },
    {
      "cell_type": "code",
      "metadata": {
        "id": "T6925vh43qeG"
      },
      "source": [
        "# importing packages\n",
        "import pandas as pd\n",
        "import matplotlib.pyplot as plt\n",
        "# data normalization with sklearn\n",
        "from sklearn.preprocessing import MinMaxScaler\n",
        "# data standardization with  sklearn\n",
        "from sklearn.preprocessing import StandardScaler\n",
        "\n",
        "df =pd.DataFrame({'column1': [200,-4,90,13.9,5,-90,20,300.7,30,-200,400],\t'Column 2':[20,30,23,45,19,38,\n",
        "\t\t\t\t\t\t\t25,45,34,37,12]})\n",
        "\n",
        "# view data\n",
        "display(df)\n",
        "df['column1'].plot.bar()\n",
        "plt.show()\n",
        "\n",
        "# copy the data\n",
        "df_min_max_scaled = df.copy()\n",
        "\n",
        "# apply normalization techniques by Column 1\n",
        "column = 'column1'\n",
        "df_min_max_scaled[column] = (df_min_max_scaled[column] - df_min_max_scaled[column].min()) / (df_min_max_scaled[column].max() - df_min_max_scaled[column].min())\t\n",
        "\n",
        "# view normalized data\n",
        "display(df_min_max_scaled)\n",
        "df_min_max_scaled['column1'].plot.bar()\n",
        "plt.show()\n",
        "\n",
        "\n",
        "# fit scaler on training data\n",
        "norm = MinMaxScaler().fit_transform(df)\n",
        "display(norm)\n",
        "\n",
        "stad=StandardScaler().fit_transform(df)\n",
        "display(stad)\n"
      ],
      "execution_count": null,
      "outputs": []
    },
    {
      "cell_type": "code",
      "metadata": {
        "id": "ffk46Kpo_TY4"
      },
      "source": [
        "from sklearn.feature_extraction.text import CountVectorizer\n",
        "from sklearn.metrics.pairwise import cosine_similarity\n",
        "documents = [\"it was the best of times\", \"it was the worst of times\",\"it was the age of wisdom\",\"it was the age of foolishness\"]\n",
        "vectorizer = CountVectorizer()\n",
        "sentence_vectors = vectorizer.fit_transform(documents)\n",
        "#print(vectorizer.get_feature_names())\n",
        "#print(sentence_vectors.toarray())\n",
        "cosine_sim = cosine_similarity(sentence_vectors, sentence_vectors)\n",
        "print(cosine_sim)"
      ],
      "execution_count": null,
      "outputs": []
    }
  ]
}